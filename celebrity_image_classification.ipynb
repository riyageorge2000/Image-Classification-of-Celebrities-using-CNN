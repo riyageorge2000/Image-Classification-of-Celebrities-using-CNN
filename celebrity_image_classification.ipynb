{
 "cells": [
  {
   "cell_type": "markdown",
   "metadata": {},
   "source": [
    "### Celebrity image classification using CNN"
   ]
  },
  {
   "cell_type": "code",
   "execution_count": 1,
   "metadata": {},
   "outputs": [],
   "source": [
    "# Importing necessary libraries\n",
    "import numpy as np\n",
    "import matplotlib.pyplot as plt\n",
    "import cv2\n",
    "import os\n",
    "import tensorflow as tf\n",
    "from PIL import Image\n",
    "from sklearn.model_selection import train_test_split\n",
    "from sklearn.metrics import classification_report\n",
    "from tqdm import tqdm"
   ]
  },
  {
   "cell_type": "code",
   "execution_count": 2,
   "metadata": {},
   "outputs": [
    {
     "name": "stderr",
     "output_type": "stream",
     "text": [
      "lionel_messi: 36it [00:00, 140.14it/s]\n",
      "maria_sharapova: 34it [00:00, 223.18it/s]t/s]\n",
      "roger_federer: 28it [00:00, 303.54it/s]6it/s]\n",
      "serena_williams: 29it [00:00, 251.44it/s]t/s]\n",
      "virat_kohli: 41it [00:00, 432.08it/s].75it/s]\n",
      "100%|██████████| 5/5 [00:00<00:00,  6.51it/s]"
     ]
    },
    {
     "name": "stdout",
     "output_type": "stream",
     "text": [
      "--------------------------------------\n",
      "\n",
      "Dataset Length:  168\n",
      "Label Length:  168\n"
     ]
    },
    {
     "name": "stderr",
     "output_type": "stream",
     "text": [
      "\n"
     ]
    }
   ],
   "source": [
    "image_dir = r'D:\\STUDY\\Sem3\\deeplearning\\CELEBRITY\\Dataset_Celebrities\\cropped'\n",
    "\n",
    "celebrities = {\n",
    "    'lionel_messi': 0,\n",
    "    'maria_sharapova': 1,\n",
    "    'roger_federer': 2,\n",
    "    'serena_williams': 3,\n",
    "    'virat_kohli': 4 }\n",
    "\n",
    "dataset = []\n",
    "label = []\n",
    "img_size = (128, 128)\n",
    "\n",
    "for celebrity, index in tqdm(celebrities.items()):\n",
    "    celeb_images = os.listdir(os.path.join(image_dir, celebrity))\n",
    "    for i, image_name in tqdm(enumerate(celeb_images), desc=celebrity):\n",
    "        if image_name.split('.')[1] == 'png':\n",
    "            image = cv2.imread(os.path.join(image_dir, celebrity, image_name))\n",
    "            image = Image.fromarray(image, 'RGB')\n",
    "            image = image.resize(img_size)\n",
    "            dataset.append(np.array(image))\n",
    "            label.append(index)\n",
    "\n",
    "dataset = np.array(dataset)\n",
    "label = np.array(label)\n",
    "\n",
    "print(\"--------------------------------------\\n\")\n",
    "print('Dataset Length: ', len(dataset))\n",
    "print('Label Length: ', len(label))"
   ]
  },
  {
   "cell_type": "code",
   "execution_count": 3,
   "metadata": {},
   "outputs": [
    {
     "name": "stdout",
     "output_type": "stream",
     "text": [
      "Train-Test Split\n",
      "--------------------------------------\n",
      "\n",
      "Normalaising the Dataset. \n",
      "\n",
      "--------------------------------------\n",
      "\n",
      "--------------------------------------\n",
      "\n",
      "Model: \"sequential\"\n",
      "_________________________________________________________________\n",
      " Layer (type)                Output Shape              Param #   \n",
      "=================================================================\n",
      " conv2d (Conv2D)             (None, 126, 126, 32)      896       \n",
      "                                                                 \n",
      " max_pooling2d (MaxPooling2  (None, 63, 63, 32)        0         \n",
      " D)                                                              \n",
      "                                                                 \n",
      " flatten (Flatten)           (None, 127008)            0         \n",
      "                                                                 \n",
      " dense (Dense)               (None, 256)               32514304  \n",
      "                                                                 \n",
      " dropout (Dropout)           (None, 256)               0         \n",
      "                                                                 \n",
      " dense_1 (Dense)             (None, 512)               131584    \n",
      "                                                                 \n",
      " dense_2 (Dense)             (None, 5)                 2565      \n",
      "                                                                 \n",
      "=================================================================\n",
      "Total params: 32649349 (124.55 MB)\n",
      "Trainable params: 32649349 (124.55 MB)\n",
      "Non-trainable params: 0 (0.00 Byte)\n",
      "_________________________________________________________________\n",
      "--------------------------------------\n",
      "\n"
     ]
    }
   ],
   "source": [
    "print(\"Train-Test Split\")\n",
    "x_train,x_test,y_train,y_test=train_test_split(dataset,label,test_size=0.2,random_state=42)\n",
    "print(\"--------------------------------------\\n\")\n",
    "\n",
    "print(\"Normalaising the Dataset. \\n\")\n",
    "\n",
    "x_train = x_train.astype('float')/255\n",
    "x_test = x_test.astype('float')/255\n",
    "\n",
    "print(\"--------------------------------------\\n\")\n",
    "\n",
    "\n",
    "model=tf.keras.models.Sequential([\n",
    "    tf.keras.layers.Conv2D(32,(3,3),activation='relu',input_shape=(128,128,3)),\n",
    "    tf.keras.layers.MaxPooling2D((2,2)),\n",
    "    tf.keras.layers.Flatten(),\n",
    "    tf.keras.layers.Dense(256,activation='relu'),\n",
    "    tf.keras.layers.Dropout(.5),\n",
    "    tf.keras.layers.Dense(512,activation='relu'),\n",
    "    tf.keras.layers.Dense(5,activation='softmax')\n",
    "])\n",
    "print(\"--------------------------------------\\n\")\n",
    "model.summary()\n",
    "print(\"--------------------------------------\\n\")"
   ]
  },
  {
   "cell_type": "code",
   "execution_count": 4,
   "metadata": {},
   "outputs": [
    {
     "name": "stdout",
     "output_type": "stream",
     "text": [
      "--------------------------------------\n",
      "\n",
      "Training Started.\n",
      "\n",
      "Epoch 1/50\n",
      "3/3 [==============================] - 3s 812ms/step - loss: 9.7753 - accuracy: 0.1828 - val_loss: 19.2124 - val_accuracy: 0.1463\n",
      "Epoch 2/50\n",
      "3/3 [==============================] - 2s 662ms/step - loss: 12.2699 - accuracy: 0.2581 - val_loss: 2.6036 - val_accuracy: 0.2683\n",
      "Epoch 3/50\n",
      "3/3 [==============================] - 2s 673ms/step - loss: 7.1848 - accuracy: 0.2688 - val_loss: 3.1610 - val_accuracy: 0.2195\n",
      "Epoch 4/50\n",
      "3/3 [==============================] - 2s 637ms/step - loss: 3.9799 - accuracy: 0.2581 - val_loss: 2.8231 - val_accuracy: 0.1463\n",
      "Epoch 5/50\n",
      "3/3 [==============================] - 2s 693ms/step - loss: 2.5865 - accuracy: 0.3548 - val_loss: 2.0189 - val_accuracy: 0.1463\n",
      "Epoch 6/50\n",
      "3/3 [==============================] - 2s 680ms/step - loss: 1.5272 - accuracy: 0.3763 - val_loss: 1.5402 - val_accuracy: 0.3171\n",
      "Epoch 7/50\n",
      "3/3 [==============================] - 2s 672ms/step - loss: 1.4928 - accuracy: 0.3978 - val_loss: 1.4158 - val_accuracy: 0.4390\n",
      "Epoch 8/50\n",
      "3/3 [==============================] - 2s 633ms/step - loss: 1.3020 - accuracy: 0.4731 - val_loss: 1.4102 - val_accuracy: 0.3415\n",
      "Epoch 9/50\n",
      "3/3 [==============================] - 2s 623ms/step - loss: 1.0404 - accuracy: 0.6129 - val_loss: 1.2147 - val_accuracy: 0.6585\n",
      "Epoch 10/50\n",
      "3/3 [==============================] - 2s 619ms/step - loss: 1.0609 - accuracy: 0.6667 - val_loss: 1.0963 - val_accuracy: 0.6829\n",
      "Epoch 11/50\n",
      "3/3 [==============================] - 2s 619ms/step - loss: 0.8641 - accuracy: 0.7849 - val_loss: 0.9640 - val_accuracy: 0.7073\n",
      "Epoch 12/50\n",
      "3/3 [==============================] - 2s 625ms/step - loss: 0.7943 - accuracy: 0.7312 - val_loss: 0.7739 - val_accuracy: 0.7805\n",
      "Epoch 13/50\n",
      "3/3 [==============================] - 2s 617ms/step - loss: 0.6356 - accuracy: 0.7634 - val_loss: 0.6860 - val_accuracy: 0.7561\n",
      "Epoch 14/50\n",
      "3/3 [==============================] - 2s 623ms/step - loss: 0.5210 - accuracy: 0.8387 - val_loss: 0.6036 - val_accuracy: 0.8780\n",
      "Epoch 15/50\n",
      "3/3 [==============================] - 2s 624ms/step - loss: 0.4406 - accuracy: 0.8710 - val_loss: 0.5949 - val_accuracy: 0.8293\n",
      "Epoch 16/50\n",
      "3/3 [==============================] - 2s 625ms/step - loss: 0.4459 - accuracy: 0.8602 - val_loss: 0.4883 - val_accuracy: 0.8780\n",
      "Epoch 17/50\n",
      "3/3 [==============================] - 2s 621ms/step - loss: 0.3208 - accuracy: 0.9140 - val_loss: 0.4334 - val_accuracy: 0.8293\n",
      "Epoch 18/50\n",
      "3/3 [==============================] - 2s 621ms/step - loss: 0.2749 - accuracy: 0.9032 - val_loss: 0.4142 - val_accuracy: 0.9024\n",
      "Epoch 19/50\n",
      "3/3 [==============================] - 2s 628ms/step - loss: 0.1976 - accuracy: 0.9677 - val_loss: 0.3884 - val_accuracy: 0.9268\n",
      "Epoch 20/50\n",
      "3/3 [==============================] - 2s 604ms/step - loss: 0.1947 - accuracy: 0.9570 - val_loss: 0.3764 - val_accuracy: 0.8780\n",
      "Epoch 21/50\n",
      "3/3 [==============================] - 2s 631ms/step - loss: 0.2380 - accuracy: 0.9462 - val_loss: 0.2996 - val_accuracy: 0.9024\n",
      "Epoch 22/50\n",
      "3/3 [==============================] - 2s 626ms/step - loss: 0.1316 - accuracy: 0.9677 - val_loss: 0.2893 - val_accuracy: 0.9024\n",
      "Epoch 23/50\n",
      "3/3 [==============================] - 2s 614ms/step - loss: 0.1530 - accuracy: 0.9570 - val_loss: 0.2601 - val_accuracy: 0.8780\n",
      "Epoch 24/50\n",
      "3/3 [==============================] - 2s 612ms/step - loss: 0.1455 - accuracy: 0.9677 - val_loss: 0.3173 - val_accuracy: 0.8780\n",
      "Epoch 25/50\n",
      "3/3 [==============================] - 2s 622ms/step - loss: 0.0975 - accuracy: 0.9785 - val_loss: 0.3230 - val_accuracy: 0.8780\n",
      "Epoch 26/50\n",
      "3/3 [==============================] - 2s 646ms/step - loss: 0.1189 - accuracy: 0.9785 - val_loss: 0.3178 - val_accuracy: 0.9024\n",
      "Epoch 27/50\n",
      "3/3 [==============================] - 2s 681ms/step - loss: 0.1445 - accuracy: 0.9677 - val_loss: 0.2932 - val_accuracy: 0.9024\n",
      "Epoch 28/50\n",
      "3/3 [==============================] - 2s 661ms/step - loss: 0.0594 - accuracy: 0.9892 - val_loss: 0.3363 - val_accuracy: 0.8780\n",
      "Epoch 29/50\n",
      "3/3 [==============================] - 2s 633ms/step - loss: 0.0613 - accuracy: 0.9892 - val_loss: 0.2994 - val_accuracy: 0.9024\n",
      "Epoch 30/50\n",
      "3/3 [==============================] - 2s 631ms/step - loss: 0.0423 - accuracy: 1.0000 - val_loss: 0.2102 - val_accuracy: 0.9024\n",
      "Epoch 31/50\n",
      "3/3 [==============================] - 2s 658ms/step - loss: 0.0565 - accuracy: 0.9892 - val_loss: 0.1786 - val_accuracy: 0.9268\n",
      "Epoch 32/50\n",
      "3/3 [==============================] - 2s 616ms/step - loss: 0.1035 - accuracy: 0.9677 - val_loss: 0.1912 - val_accuracy: 0.9268\n",
      "Epoch 33/50\n",
      "3/3 [==============================] - 2s 654ms/step - loss: 0.0424 - accuracy: 1.0000 - val_loss: 0.2057 - val_accuracy: 0.9512\n",
      "Epoch 34/50\n",
      "3/3 [==============================] - 2s 653ms/step - loss: 0.0427 - accuracy: 0.9892 - val_loss: 0.2298 - val_accuracy: 0.9512\n",
      "Epoch 35/50\n",
      "3/3 [==============================] - 2s 647ms/step - loss: 0.0717 - accuracy: 0.9892 - val_loss: 0.2716 - val_accuracy: 0.9024\n",
      "Epoch 36/50\n",
      "3/3 [==============================] - 2s 648ms/step - loss: 0.0652 - accuracy: 0.9892 - val_loss: 0.2984 - val_accuracy: 0.8293\n",
      "Epoch 37/50\n",
      "3/3 [==============================] - 2s 637ms/step - loss: 0.0493 - accuracy: 0.9892 - val_loss: 0.2840 - val_accuracy: 0.8780\n",
      "Epoch 38/50\n",
      "3/3 [==============================] - 2s 620ms/step - loss: 0.0460 - accuracy: 0.9892 - val_loss: 0.2999 - val_accuracy: 0.9024\n",
      "Epoch 39/50\n",
      "3/3 [==============================] - 2s 643ms/step - loss: 0.0498 - accuracy: 0.9892 - val_loss: 0.2695 - val_accuracy: 0.9512\n",
      "Epoch 40/50\n",
      "3/3 [==============================] - 2s 636ms/step - loss: 0.0452 - accuracy: 0.9892 - val_loss: 0.2212 - val_accuracy: 0.9512\n",
      "Epoch 41/50\n",
      "3/3 [==============================] - 2s 654ms/step - loss: 0.0492 - accuracy: 0.9892 - val_loss: 0.1643 - val_accuracy: 0.9268\n",
      "Epoch 42/50\n",
      "3/3 [==============================] - 2s 680ms/step - loss: 0.0330 - accuracy: 0.9892 - val_loss: 0.1554 - val_accuracy: 0.9268\n",
      "Epoch 43/50\n",
      "3/3 [==============================] - 2s 659ms/step - loss: 0.0216 - accuracy: 0.9892 - val_loss: 0.1941 - val_accuracy: 0.9512\n",
      "Epoch 44/50\n",
      "3/3 [==============================] - 2s 625ms/step - loss: 0.0366 - accuracy: 0.9892 - val_loss: 0.2603 - val_accuracy: 0.9512\n",
      "Epoch 45/50\n",
      "3/3 [==============================] - 2s 641ms/step - loss: 0.0548 - accuracy: 0.9892 - val_loss: 0.2563 - val_accuracy: 0.9512\n",
      "Epoch 46/50\n",
      "3/3 [==============================] - 2s 648ms/step - loss: 0.0188 - accuracy: 1.0000 - val_loss: 0.2041 - val_accuracy: 0.9512\n",
      "Epoch 47/50\n",
      "3/3 [==============================] - 2s 631ms/step - loss: 0.0680 - accuracy: 0.9892 - val_loss: 0.1854 - val_accuracy: 0.9512\n",
      "Epoch 48/50\n",
      "3/3 [==============================] - 2s 635ms/step - loss: 0.0234 - accuracy: 1.0000 - val_loss: 0.1754 - val_accuracy: 0.9756\n",
      "Epoch 49/50\n",
      "3/3 [==============================] - 2s 618ms/step - loss: 0.0476 - accuracy: 0.9892 - val_loss: 0.1904 - val_accuracy: 0.9756\n",
      "Epoch 50/50\n",
      "3/3 [==============================] - 2s 617ms/step - loss: 0.0074 - accuracy: 1.0000 - val_loss: 0.2197 - val_accuracy: 0.9512\n",
      "Training Finished.\n",
      "\n",
      "--------------------------------------\n",
      "\n"
     ]
    }
   ],
   "source": [
    "model.compile(optimizer='adam',\n",
    "            loss='sparse_categorical_crossentropy',\n",
    "            metrics=['accuracy'])\n",
    "print(\"--------------------------------------\\n\")\n",
    "\n",
    "\n",
    "print(\"Training Started.\\n\")\n",
    "history=model.fit(x_train,y_train,epochs=50,batch_size =32,validation_split=0.3)\n",
    "print(\"Training Finished.\\n\")\n",
    "print(\"--------------------------------------\\n\")"
   ]
  },
  {
   "cell_type": "code",
   "execution_count": 5,
   "metadata": {},
   "outputs": [
    {
     "name": "stdout",
     "output_type": "stream",
     "text": [
      "Model Evalutaion Phase.\n",
      "\n",
      "2/2 [==============================] - 0s 21ms/step - loss: 0.9055 - accuracy: 0.7353\n",
      "Accuracy: 73.53\n",
      "--------------------------------------\n",
      "\n",
      "2/2 [==============================] - 0s 10ms/step\n",
      "classification Report\n",
      "               precision    recall  f1-score   support\n",
      "\n",
      "           0       1.00      0.70      0.82        10\n",
      "           1       0.75      0.86      0.80         7\n",
      "           2       0.50      0.75      0.60         4\n",
      "           3       0.75      0.50      0.60         6\n",
      "           4       0.67      0.86      0.75         7\n",
      "\n",
      "    accuracy                           0.74        34\n",
      "   macro avg       0.73      0.73      0.71        34\n",
      "weighted avg       0.78      0.74      0.74        34\n",
      "\n",
      "--------------------------------------\n",
      "\n"
     ]
    }
   ],
   "source": [
    "print(\"Model Evalutaion Phase.\\n\")\n",
    "loss,accuracy=model.evaluate(x_test,y_test)\n",
    "print(f'Accuracy: {round(accuracy*100,2)}')\n",
    "print(\"--------------------------------------\\n\")\n",
    "\n",
    "\n",
    "y_pred=model.predict(x_test)\n",
    "y_pred = np.argmax(y_pred,axis=1)\n",
    "print('classification Report\\n',classification_report(y_test,y_pred))\n",
    "print(\"--------------------------------------\\n\")"
   ]
  },
  {
   "cell_type": "code",
   "execution_count": 6,
   "metadata": {},
   "outputs": [
    {
     "data": {
      "image/png": "[encoded data removed]",
      "text/plain": [
       "<Figure size 640x480 with 1 Axes>"
      ]
     },
     "metadata": {},
     "output_type": "display_data"
    }
   ],
   "source": [
    "# Plotting training history\n",
    "plt.plot(history.history['accuracy'], label='accuracy')\n",
    "plt.plot(history.history['val_accuracy'], label='val_accuracy')\n",
    "plt.xlabel('Epoch')\n",
    "plt.ylabel('Accuracy')\n",
    "plt.legend()\n",
    "plt.show()"
   ]
  },
  {
   "cell_type": "code",
   "execution_count": 7,
   "metadata": {},
   "outputs": [
    {
     "name": "stdout",
     "output_type": "stream",
     "text": [
      "Model Prediction.\n",
      "\n"
     ]
    }
   ],
   "source": [
    "print(\"Model Prediction.\\n\")\n",
    "\n",
    "\n",
    "def preprocess_single_image(image_path):\n",
    "    img_size = (128, 128)\n",
    "    image = cv2.imread(image_path)\n",
    "    image = Image.fromarray(image, 'RGB')\n",
    "    image = image.resize(img_size)\n",
    "    image = np.array(image)\n",
    "    image = image.astype('float32') / 255.0\n",
    "    return image\n",
    "\n",
    "def predict_celebrity(image_path, model):\n",
    "    single_image = preprocess_single_image(image_path)\n",
    "    single_image = np.expand_dims(single_image, axis=0)\n",
    "    predictions = model.predict(single_image)\n",
    "    predicted_class = np.argmax(predictions)\n",
    "    \n",
    "    class_names = ['lionel Messi', 'Maria Sharapova', 'Roger Federer', 'Serena Williams', 'Virat Kohli']\n",
    "    predicted_label = class_names[predicted_class]\n",
    "\n",
    "    return predicted_label\n"
   ]
  },
  {
   "cell_type": "code",
   "execution_count": 10,
   "metadata": {},
   "outputs": [
    {
     "name": "stdout",
     "output_type": "stream",
     "text": [
      "1/1 [==============================] - 0s 71ms/step\n",
      "lionel Messi\n",
      "1/1 [==============================] - 0s 50ms/step\n",
      "Maria Sharapova\n",
      "1/1 [==============================] - 0s 55ms/step\n",
      "Roger Federer\n",
      "1/1 [==============================] - 0s 66ms/step\n",
      "Serena Williams\n",
      "1/1 [==============================] - 0s 60ms/step\n",
      "Virat Kohli\n",
      "1/1 [==============================] - 0s 55ms/step\n",
      "lionel Messi\n",
      "1/1 [==============================] - 0s 58ms/step\n",
      "Maria Sharapova\n",
      "1/1 [==============================] - 0s 51ms/step\n",
      "Roger Federer\n",
      "1/1 [==============================] - 0s 52ms/step\n",
      "Serena Williams\n",
      "1/1 [==============================] - 0s 60ms/step\n",
      "Virat Kohli\n"
     ]
    }
   ],
   "source": [
    "# List of paths to images you want to predict\n",
    "image_paths_to_predict = [\n",
    "    r'D:\\STUDY\\Sem3\\deeplearning\\CELEBRITY\\Dataset_Celebrities\\cropped\\lionel_messi\\lionel_messi1.png',\n",
    "    r'D:\\STUDY\\Sem3\\deeplearning\\CELEBRITY\\Dataset_Celebrities\\cropped\\maria_sharapova\\maria_sharapova1.png',\n",
    "    r'D:\\STUDY\\Sem3\\deeplearning\\CELEBRITY\\Dataset_Celebrities\\cropped\\roger_federer\\roger_federer1.png',\n",
    "    r'D:\\STUDY\\Sem3\\deeplearning\\CELEBRITY\\Dataset_Celebrities\\cropped\\serena_williams\\serena_williams16.png',\n",
    "    r'D:\\STUDY\\Sem3\\deeplearning\\CELEBRITY\\Dataset_Celebrities\\cropped\\virat_kohli\\virat_kohli1.png',\n",
    "    r'D:\\STUDY\\Sem3\\deeplearning\\CELEBRITY\\Dataset_Celebrities\\cropped\\lionel_messi\\lionel_messi8.png',\n",
    "    r'D:\\STUDY\\Sem3\\deeplearning\\CELEBRITY\\Dataset_Celebrities\\cropped\\maria_sharapova\\maria_sharapova8.png',\n",
    "    r'D:\\STUDY\\Sem3\\deeplearning\\CELEBRITY\\Dataset_Celebrities\\cropped\\roger_federer\\roger_federer3.png',\n",
    "    r'D:\\STUDY\\Sem3\\deeplearning\\CELEBRITY\\Dataset_Celebrities\\cropped\\serena_williams\\serena_williams7.png',\n",
    "    r'D:\\STUDY\\Sem3\\deeplearning\\CELEBRITY\\Dataset_Celebrities\\cropped\\virat_kohli\\virat_kohli5.png'\n",
    "]\n",
    "# Preprocess and predict for each image\n",
    "for image_path in image_paths_to_predict:\n",
    "    print(predict_celebrity(image_path,model))"
   ]
  },
  {
   "cell_type": "markdown",
   "metadata": {},
   "source": [
    "Data Preparation: Loaded images from directories, resized them, and stored them in dataset and label lists.\n",
    "Split the data into training and testing sets.\n",
    "\n",
    "Model Architecture: Created a sequential model with Convolutional layers (Conv2D) with ReLU activation and max-pooling (MaxPooling2D). Flattening layer to convert data to a 1D array. Dense layers with ReLU activation, a dropout layer to prevent overfitting, and a final softmax layer for classification.\n",
    "\n",
    "Training: Compiled the model with Adam optimizer and sparse categorical cross-entropy loss. Trained the model on the training data for 50 epochs.\n",
    "\n",
    "Evaluation: Evaluated the trained model on the test data and obtained accuracy metrics. Generated a classification report with precision, recall, and F1-score for each class.\n",
    "\n",
    "Prediction: Defined functions to preprocess single images and predict their classes using the trained model. Predicted classes for a set of test images.\n",
    "\n",
    "Model Performance: The model achieved an accuracy of approximately 73.53% on the test set. The model predictions for the provided images are consistent with the expected classes. Each image has been correctly classified as the respective celebrity: Lionel Messi, Maria Sharapova, Roger Federer, Serena Williams, and Virat Kohli. This suggests that the model is making accurate predictions for these specific images. "
   ]
  },
  {
   "cell_type": "code",
   "execution_count": null,
   "metadata": {},
   "outputs": [],
   "source": []
  }
 ],
 "metadata": {
  "kernelspec": {
   "display_name": "DLENV",
   "language": "python",
   "name": "python3"
  },
  "language_info": {
   "codemirror_mode": {
    "name": "ipython",
    "version": 3
   },
   "file_extension": ".py",
   "mimetype": "text/x-python",
   "name": "python",
   "nbconvert_exporter": "python",
   "pygments_lexer": "ipython3",
   "version": "3.10.11"
  }
 },
 "nbformat": 4,
 "nbformat_minor": 2
}
